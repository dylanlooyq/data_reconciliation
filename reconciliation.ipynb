{
 "cells": [
  {
   "cell_type": "code",
   "execution_count": 97,
   "id": "2126ef7f",
   "metadata": {},
   "outputs": [
    {
     "name": "stdout",
     "output_type": "stream",
     "text": [
      "3.10.7\n"
     ]
    }
   ],
   "source": [
    "import time\n",
    "import pandas as pd\n",
    "import numpy as np\n",
    "import pyarrow as pa\n",
    "import pyarrow.parquet as pq\n",
    "import pyarrow.compute as pc\n",
    "import polars as pl\n",
    "from functools import reduce\n",
    "import duckdb\n",
    "\n",
    "import matplotlib\n",
    "import matplotlib.pyplot as plt\n",
    "print(matplotlib.__version__)\n",
    "\n",
    "# container to keep adding results across runs\n",
    "results = {}"
   ]
  },
  {
   "cell_type": "markdown",
   "id": "844d9052",
   "metadata": {},
   "source": [
    "# Method 1: Pandas dataframes"
   ]
  },
  {
   "cell_type": "code",
   "execution_count": 98,
   "id": "c5297aa5",
   "metadata": {},
   "outputs": [
    {
     "name": "stdout",
     "output_type": "stream",
     "text": [
      "Row-level match rate: 0.9999714286\n",
      "{'Pandas': {'match_rate': 0.9999714286, 'time_taken_sec': 11.4324762821}}\n"
     ]
    }
   ],
   "source": [
    "# Start timer\n",
    "start_time = time.time()\n",
    "\n",
    "df1 = pq.read_table(\"data.parquet\").to_pandas()\n",
    "df2 = pq.read_table(\"data_modified.parquet\").to_pandas()\n",
    "\n",
    "match_rate = (df1 == df2).all(axis=1).mean()\n",
    "print(f\"Row-level match rate: {match_rate:.10f}\")\n",
    "\n",
    "# End timer\n",
    "end_time = time.time()\n",
    "elapsed_time = end_time - start_time\n",
    "\n",
    "# Add entry under key 'Pandas'\n",
    "results[\"Pandas\"] = {\n",
    "    \"match_rate\": round(match_rate, 10),\n",
    "    \"time_taken_sec\": round(elapsed_time, 10)\n",
    "}\n",
    "\n",
    "print(results)"
   ]
  },
  {
   "cell_type": "markdown",
   "id": "1f7e737a",
   "metadata": {},
   "source": [
    "# Method 2: SQL via duckDB"
   ]
  },
  {
   "cell_type": "code",
   "execution_count": 99,
   "id": "89cab4cf",
   "metadata": {},
   "outputs": [
    {
     "data": {
      "application/vnd.jupyter.widget-view+json": {
       "model_id": "10e60a60997449c2ae7babd26b918397",
       "version_major": 2,
       "version_minor": 0
      },
      "text/plain": [
       "FloatProgress(value=0.0, layout=Layout(width='auto'), style=ProgressStyle(bar_color='black'))"
      ]
     },
     "metadata": {},
     "output_type": "display_data"
    },
    {
     "name": "stdout",
     "output_type": "stream",
     "text": [
      "Row-level match rate: 0.9999714286\n",
      "{'Pandas': {'match_rate': 0.9999714286, 'time_taken_sec': 11.4324762821}, 'DuckDB': {'match_rate': 0.9999714286, 'time_taken_sec': 4.9804046154}}\n"
     ]
    }
   ],
   "source": [
    "import time\n",
    "import duckdb\n",
    "\n",
    "def quote_ident(col: str) -> str:\n",
    "    # DuckDB identifiers are double-quoted; escape any embedded quotes\n",
    "    return '\"' + col.replace('\"', '\"\"') + '\"'\n",
    "\n",
    "# Start timer\n",
    "start_time = time.time()\n",
    "con = duckdb.connect()\n",
    "\n",
    "# Build a NULL-safe equality condition across all columns\n",
    "eq_conditions = \" AND \".join(\n",
    "    f\"(t1.{quote_ident(c)} IS NOT DISTINCT FROM t2.{quote_ident(c)})\" for c in cols\n",
    ")\n",
    "\n",
    "# Use row_number() to compare row i vs row i (since files are already sorted)\n",
    "query = f\"\"\"\n",
    "WITH\n",
    "t1 AS (\n",
    "  SELECT ROW_NUMBER() OVER () AS rn, * FROM read_parquet('data.parquet')\n",
    "),\n",
    "t2 AS (\n",
    "  SELECT ROW_NUMBER() OVER () AS rn, * FROM read_parquet('data_modified.parquet')\n",
    "),\n",
    "joined AS (\n",
    "  SELECT {eq_conditions} AS row_match\n",
    "  FROM t1\n",
    "  JOIN t2 USING (rn)\n",
    ")\n",
    "SELECT AVG(CASE WHEN row_match THEN 1 ELSE 0 END)::DOUBLE AS match_rate\n",
    "FROM joined;\n",
    "\"\"\"\n",
    "\n",
    "match_rate = con.execute(query).fetchone()[0]\n",
    "print(f\"Row-level match rate: {match_rate:.10f}\")\n",
    "\n",
    "# End timer\n",
    "end_time = time.time()\n",
    "elapsed_time = end_time - start_time\n",
    "\n",
    "# Add entry under key 'DuckDB'\n",
    "results[\"DuckDB\"] = {\n",
    "    \"match_rate\": round(match_rate, 10),\n",
    "    \"time_taken_sec\": round(elapsed_time, 10)\n",
    "}\n",
    "\n",
    "print(results)\n"
   ]
  },
  {
   "cell_type": "markdown",
   "id": "bf8668d5",
   "metadata": {},
   "source": [
    "# Method 3: Polars"
   ]
  },
  {
   "cell_type": "code",
   "execution_count": 100,
   "id": "756ef792",
   "metadata": {},
   "outputs": [
    {
     "name": "stdout",
     "output_type": "stream",
     "text": [
      "Row-level match rate: 0.9999714286\n",
      "{'Pandas': {'match_rate': 0.9999714286, 'time_taken_sec': 11.4324762821}, 'DuckDB': {'match_rate': 0.9999714286, 'time_taken_sec': 4.9804046154}, 'Polars': {'match_rate': 0.9999714286, 'time_taken_sec': 4.8158845901}}\n"
     ]
    }
   ],
   "source": [
    "# Start timer\n",
    "start_time = time.time()\n",
    "\n",
    "# Read Parquet files using Polars\n",
    "df1 = pl.read_parquet(\"data.parquet\")\n",
    "df2 = pl.read_parquet(\"data_modified.parquet\")\n",
    "\n",
    "# Compute row-level match rate\n",
    "# (df1 == df2) gives a Boolean DataFrame\n",
    "# .row(eq=True) checks if all values in the row are True\n",
    "match_rate = (df1 == df2).rows().count((True,) * df1.width) / df1.height\n",
    "\n",
    "# Print result\n",
    "print(f\"Row-level match rate: {match_rate:.10f}\")\n",
    "\n",
    "# End timer\n",
    "end_time = time.time()\n",
    "elapsed_time = end_time - start_time\n",
    "\n",
    "# Add entry under key 'Polars'\n",
    "results[\"Polars\"] = {\n",
    "    \"match_rate\": round(match_rate, 10),\n",
    "    \"time_taken_sec\": round(elapsed_time, 10)\n",
    "}\n",
    "print(results)\n"
   ]
  },
  {
   "cell_type": "markdown",
   "id": "36a403d2",
   "metadata": {},
   "source": [
    "# Method 4: Polars Streaming"
   ]
  },
  {
   "cell_type": "code",
   "execution_count": 101,
   "id": "4e927542",
   "metadata": {},
   "outputs": [
    {
     "name": "stdout",
     "output_type": "stream",
     "text": [
      "Row-level match rate: 0.9999714286\n",
      "Elapsed: 2.292s\n",
      "{'Pandas': {'match_rate': 0.9999714286, 'time_taken_sec': 11.4324762821}, 'DuckDB': {'match_rate': 0.9999714286, 'time_taken_sec': 4.9804046154}, 'Polars': {'match_rate': 0.9999714286, 'time_taken_sec': 4.8158845901}, 'Polars\\n(Streaming)': {'match_rate': 0.9999714286, 'time_taken_sec': 2.2919049263}}\n"
     ]
    }
   ],
   "source": [
    "# Start timer\n",
    "start_time = time.time()\n",
    "\n",
    "# Lazily stream from Parquet (no pandas conversion)\n",
    "l1 = pl.scan_parquet(\"data.parquet\")\n",
    "l2 = pl.scan_parquet(\"data_modified.parquet\")\n",
    "\n",
    "# Get column names without forcing full resolution (avoids the warning)\n",
    "cols = l1.collect_schema().names()\n",
    "\n",
    "# Row-level hash via struct hashing (version-proof-ish; seed pins current version)\n",
    "h1 = l1.select(pl.struct(cols).hash(seed=0).alias(\"h\"))\n",
    "h2 = l2.select(pl.struct(cols).hash(seed=0).alias(\"h\"))\n",
    "\n",
    "# Attach a row index to preserve order, then join on index\n",
    "h1i = h1.with_row_index(\"rn\")\n",
    "h2i = h2.with_row_index(\"rn\")\n",
    "\n",
    "# Join and compute match rate; use the non-deprecated engine kw\n",
    "match_rate = (\n",
    "    h1i.join(h2i, on=\"rn\", how=\"inner\", suffix=\"_right\")\n",
    "       .with_columns((pl.col(\"h\") == pl.col(\"h_right\")).alias(\"row_match\"))\n",
    "       .select(pl.col(\"row_match\").mean())\n",
    "       .collect(engine=\"streaming\")\n",
    "       .item()\n",
    ")\n",
    "\n",
    "elapsed_time = time.time() - start_time\n",
    "\n",
    "print(f\"Row-level match rate: {match_rate:.10f}\")\n",
    "print(f\"Elapsed: {elapsed_time:.3f}s\")\n",
    "\n",
    "# Add entry under key 'Polars Streaming'\n",
    "results[\"Polars\\n(Streaming)\"] = {\n",
    "    \"match_rate\": round(match_rate, 10),\n",
    "    \"time_taken_sec\": round(elapsed_time, 10)\n",
    "}\n",
    "print(results)\n"
   ]
  },
  {
   "cell_type": "markdown",
   "id": "ec3189d5",
   "metadata": {},
   "source": [
    "# Method 5: Read parquet files directly (PyArrow)"
   ]
  },
  {
   "cell_type": "code",
   "execution_count": 102,
   "id": "322d5b95",
   "metadata": {},
   "outputs": [
    {
     "name": "stdout",
     "output_type": "stream",
     "text": [
      "Row-level match rate: 0.9999714286\n",
      "Average time over 5 runs: 1.691497 sec\n",
      "{'Pandas': {'match_rate': 0.9999714286, 'time_taken_sec': 11.4324762821}, 'DuckDB': {'match_rate': 0.9999714286, 'time_taken_sec': 4.9804046154}, 'Polars': {'match_rate': 0.9999714286, 'time_taken_sec': 4.8158845901}, 'Polars\\n(Streaming)': {'match_rate': 0.9999714286, 'time_taken_sec': 2.2919049263}, 'PyArrow': {'match_rate': 0.9999714286, 'time_taken_sec': 1.6914967537}}\n"
     ]
    }
   ],
   "source": [
    "path1 = \"data.parquet\"\n",
    "path2 = \"data_modified.parquet\"\n",
    "batch_size = 7_000_000  # untuned, batch size = table size\n",
    "\n",
    "num_runs = 5\n",
    "times = []\n",
    "match_rate = None  # to store final match rate (same across runs)\n",
    "\n",
    "for _ in range(num_runs):\n",
    "    start_time = time.time()\n",
    "\n",
    "    pf1, pf2 = pq.ParquetFile(path1), pq.ParquetFile(path2)\n",
    "\n",
    "    # Fast fail if total row counts differ\n",
    "    if pf1.metadata.num_rows != pf2.metadata.num_rows:\n",
    "        raise ValueError(f\"Total row count mismatch: {pf1.metadata.num_rows} vs {pf2.metadata.num_rows}\")\n",
    "\n",
    "    total_rows = matched_rows = 0\n",
    "\n",
    "    for b1, b2 in zip(pf1.iter_batches(batch_size=batch_size), pf2.iter_batches(batch_size=batch_size)):\n",
    "        if b1.num_rows != b2.num_rows or b1.num_columns != b2.num_columns:\n",
    "            raise ValueError(\"Batch shape mismatch\")\n",
    "\n",
    "        # Row-wise full equality: AND across all per-column equalities\n",
    "        row_equal = reduce(\n",
    "            pc.and_kleene,\n",
    "            (pc.equal(b1.column(i), b2.column(i)) for i in range(b1.num_columns))\n",
    "        )\n",
    "\n",
    "        # Count True values in this batch\n",
    "        matches_in_batch = int(pc.sum(pc.cast(row_equal, pa.int64())).as_py())\n",
    "        matched_rows += matches_in_batch\n",
    "        total_rows += b1.num_rows\n",
    "\n",
    "    match_rate = matched_rows / total_rows if total_rows else 1.0\n",
    "    elapsed_time = time.time() - start_time\n",
    "    times.append(elapsed_time)\n",
    "\n",
    "avg_time = sum(times) / num_runs\n",
    "\n",
    "results[\"PyArrow\"] = {\n",
    "    \"match_rate\": round(match_rate, 10),\n",
    "    \"time_taken_sec\": round(avg_time, 10)\n",
    "}\n",
    "\n",
    "print(f\"Row-level match rate: {match_rate:.10f}\")\n",
    "print(f\"Average time over {num_runs} runs: {avg_time:.6f} sec\")\n",
    "print(results)\n"
   ]
  },
  {
   "cell_type": "markdown",
   "id": "29ac36f3",
   "metadata": {},
   "source": [
    "# Method 6: Read parquet files directly with tuned batch processing"
   ]
  },
  {
   "cell_type": "code",
   "execution_count": 103,
   "id": "195788a5",
   "metadata": {},
   "outputs": [
    {
     "name": "stdout",
     "output_type": "stream",
     "text": [
      "Batch size 10,000 → 1.9796 sec\n",
      "Batch size 20,000 → 1.4952 sec\n",
      "Batch size 30,000 → 1.4599 sec\n",
      "Batch size 40,000 → 1.3143 sec\n",
      "Batch size 50,000 → 1.3026 sec\n",
      "Batch size 60,000 → 1.4407 sec\n",
      "Batch size 70,000 → 1.3911 sec\n",
      "Batch size 80,000 → 1.5879 sec\n",
      "Batch size 90,000 → 1.4105 sec\n",
      "Batch size 100,000 → 1.3760 sec\n",
      "Batch size 110,000 → 1.4851 sec\n",
      "Batch size 120,000 → 1.4057 sec\n",
      "Batch size 130,000 → 1.4862 sec\n",
      "Batch size 140,000 → 1.8906 sec\n",
      "Batch size 150,000 → 1.9384 sec\n",
      "Batch size 160,000 → 1.4431 sec\n",
      "Batch size 170,000 → 1.2959 sec\n",
      "Batch size 180,000 → 1.5981 sec\n",
      "Batch size 190,000 → 1.7283 sec\n",
      "Batch size 200,000 → 1.3805 sec\n",
      "Batch size 210,000 → 1.2327 sec\n",
      "Batch size 220,000 → 1.2580 sec\n",
      "Batch size 230,000 → 1.2769 sec\n",
      "Batch size 240,000 → 1.2578 sec\n",
      "Batch size 250,000 → 1.2010 sec\n",
      "Batch size 260,000 → 1.1319 sec\n",
      "Batch size 270,000 → 1.2842 sec\n",
      "Batch size 280,000 → 1.3213 sec\n",
      "Batch size 290,000 → 1.3149 sec\n",
      "Batch size 300,000 → 1.2552 sec\n",
      "\n",
      "✅ Optimal batch size: 260,000 rows\n",
      "\n"
     ]
    }
   ],
   "source": [
    "path1 = \"data.parquet\"\n",
    "path2 = \"data_modified.parquet\"\n",
    "\n",
    "# Testing different batch sizes\n",
    "batch_sizes = list(range(10_000, 300_001, 10_000))  # 10k → 1M in 10k steps\n",
    "batch_times = []\n",
    "\n",
    "for bs in batch_sizes:\n",
    "    start_time = time.time()\n",
    "\n",
    "    pf1, pf2 = pq.ParquetFile(path1), pq.ParquetFile(path2)\n",
    "\n",
    "    total_rows = matched_rows = 0\n",
    "    for b1, b2 in zip(pf1.iter_batches(batch_size=bs), pf2.iter_batches(batch_size=bs)):\n",
    "        row_equal = reduce(\n",
    "            pc.and_kleene,\n",
    "            (pc.equal(b1.column(i), b2.column(i)) for i in range(b1.num_columns))\n",
    "        )\n",
    "        matched_rows += int(pc.sum(pc.cast(row_equal, pa.int64())).as_py())\n",
    "        total_rows += b1.num_rows\n",
    "\n",
    "    elapsed_time = time.time() - start_time\n",
    "    batch_times.append(elapsed_time)\n",
    "    print(f\"Batch size {bs:,} → {elapsed_time:.4f} sec\")\n",
    "\n",
    "# Find optimal batch size (min time)\n",
    "optimal_batch_size = batch_sizes[batch_times.index(min(batch_times))]\n",
    "print(f\"\\n✅ Optimal batch size: {optimal_batch_size:,} rows\\n\")\n",
    "\n",
    "# --- Smoothing (rolling mean) with edge padding ---\n",
    "window = max(5, len(batch_times) // 10)\n",
    "if window % 2 == 0:\n",
    "    window += 1\n",
    "kernel = np.ones(window, dtype=float) / window\n",
    "\n",
    "# pad by half-window on each side, then 'valid' to recenter\n",
    "half = window // 2\n",
    "padded = np.pad(batch_times, (half, half), mode='reflect')  # or mode='edge'\n",
    "smoothed_times = np.convolve(padded, kernel, mode='valid')"
   ]
  },
  {
   "cell_type": "code",
   "execution_count": 104,
   "id": "7aa4e155",
   "metadata": {},
   "outputs": [
    {
     "data": {
      "image/png": "[encoded data removed]",
      "text/plain": [
       "<Figure size 800x500 with 1 Axes>"
      ]
     },
     "metadata": {},
     "output_type": "display_data"
    }
   ],
   "source": [
    "# --- Plot results (raw + smoothed) ---\n",
    "plt.figure(figsize=(8, 5))\n",
    "plt.plot(batch_sizes, batch_times, marker='o', linewidth=1, label='Raw')\n",
    "plt.plot(\n",
    "    batch_sizes,\n",
    "    smoothed_times,\n",
    "    linewidth=2,\n",
    "    linestyle='--',   # dotted or dashed line\n",
    "    alpha=0.5,        # 50% opacity\n",
    "    color = 'black',\n",
    "    label=f'Trendline'\n",
    ")\n",
    "plt.title(\"Parquet Comparison Runtime vs Batch Size\")\n",
    "plt.xlabel(\"Batch Size (rows)\")\n",
    "plt.ylabel(\"Time Taken (seconds)\")\n",
    "plt.grid(True)\n",
    "plt.legend()\n",
    "plt.show()\n"
   ]
  },
  {
   "cell_type": "code",
   "execution_count": 105,
   "id": "77f2accc",
   "metadata": {},
   "outputs": [
    {
     "name": "stdout",
     "output_type": "stream",
     "text": [
      "Row-level match rate: 0.9999714286\n",
      "Average time over 5 runs: 1.254333 sec\n",
      "{'Pandas': {'match_rate': 0.9999714286, 'time_taken_sec': 11.4324762821}, 'DuckDB': {'match_rate': 0.9999714286, 'time_taken_sec': 4.9804046154}, 'Polars': {'match_rate': 0.9999714286, 'time_taken_sec': 4.8158845901}, 'Polars\\n(Streaming)': {'match_rate': 0.9999714286, 'time_taken_sec': 2.2919049263}, 'PyArrow': {'match_rate': 0.9999714286, 'time_taken_sec': 1.6914967537}, 'PyArrow\\n(Tuned batch size)': {'match_rate': 0.9999714286, 'time_taken_sec': 1.2543331146}}\n"
     ]
    }
   ],
   "source": [
    "path1 = \"data.parquet\"\n",
    "path2 = \"data_modified.parquet\"\n",
    "batch_size = optimal_batch_size\n",
    "\n",
    "num_runs = 5\n",
    "times = []\n",
    "match_rate = None  # to store final match rate (same across runs)\n",
    "\n",
    "for _ in range(num_runs):\n",
    "    start_time = time.time()\n",
    "\n",
    "    pf1, pf2 = pq.ParquetFile(path1), pq.ParquetFile(path2)\n",
    "\n",
    "    # Fast fail if total row counts differ\n",
    "    if pf1.metadata.num_rows != pf2.metadata.num_rows:\n",
    "        raise ValueError(f\"Total row count mismatch: {pf1.metadata.num_rows} vs {pf2.metadata.num_rows}\")\n",
    "\n",
    "    total_rows = matched_rows = 0\n",
    "\n",
    "    for b1, b2 in zip(pf1.iter_batches(batch_size=batch_size), pf2.iter_batches(batch_size=batch_size)):\n",
    "        if b1.num_rows != b2.num_rows or b1.num_columns != b2.num_columns:\n",
    "            raise ValueError(\"Batch shape mismatch\")\n",
    "\n",
    "        # Row-wise full equality: AND across all per-column equalities\n",
    "        row_equal = reduce(\n",
    "            pc.and_kleene,\n",
    "            (pc.equal(b1.column(i), b2.column(i)) for i in range(b1.num_columns))\n",
    "        )\n",
    "\n",
    "        # Count True values in this batch\n",
    "        matches_in_batch = int(pc.sum(pc.cast(row_equal, pa.int64())).as_py())\n",
    "        matched_rows += matches_in_batch\n",
    "        total_rows += b1.num_rows\n",
    "\n",
    "    match_rate = matched_rows / total_rows if total_rows else 1.0\n",
    "    elapsed_time = time.time() - start_time\n",
    "    times.append(elapsed_time)\n",
    "\n",
    "avg_time = sum(times) / num_runs\n",
    "\n",
    "results[\"PyArrow\\n(Tuned batch size)\"] = {\n",
    "    \"match_rate\": round(match_rate, 10),\n",
    "    \"time_taken_sec\": round(avg_time, 10)\n",
    "}\n",
    "\n",
    "print(f\"Row-level match rate: {match_rate:.10f}\")\n",
    "print(f\"Average time over {num_runs} runs: {avg_time:.6f} sec\")\n",
    "print(results)\n"
   ]
  },
  {
   "cell_type": "markdown",
   "id": "897413e7",
   "metadata": {},
   "source": [
    "# Visualise the results"
   ]
  },
  {
   "cell_type": "code",
   "execution_count": 106,
   "id": "ff69c8f9",
   "metadata": {},
   "outputs": [
    {
     "data": {
      "image/png": "[encoded data removed]",
      "text/plain": [
       "<Figure size 600x400 with 1 Axes>"
      ]
     },
     "metadata": {},
     "output_type": "display_data"
    }
   ],
   "source": [
    "# Visualise the results\n",
    "\n",
    "# Extract methods and their corresponding times\n",
    "methods = list(results.keys())\n",
    "times = [v['time_taken_sec'] for v in results.values()]\n",
    "\n",
    "# --- Sort results by descending time ---\n",
    "sorted_data = sorted(zip(methods, times), key=lambda x: x[1], reverse=True)\n",
    "methods, times = zip(*sorted_data)\n",
    "\n",
    "# Normalize and color (same logic)\n",
    "max_time = max(times)\n",
    "min_time = min(times)\n",
    "norm_times = [(t - min_time) / (max_time - min_time) if max_time > min_time else 0.5 for t in times]\n",
    "colors = [plt.cm.Blues(1 - n * 0.6) for n in norm_times]\n",
    "\n",
    "# --- Plot ---\n",
    "plt.figure(figsize=(6, 4))\n",
    "bars = plt.bar(methods, times, color=colors)\n",
    "\n",
    "# Add value labels on top of bars\n",
    "for bar in bars:\n",
    "    height = bar.get_height()\n",
    "    plt.text(bar.get_x() + bar.get_width()/2, height, f\"{height:.2f}s\", \n",
    "             ha='center', va='bottom', fontsize=10)\n",
    "\n",
    "# Titles and labels\n",
    "plt.title(\"Time to Reconcile Datasets\")\n",
    "plt.xlabel(\"Reconciliation Method\")\n",
    "\n",
    "# Remove gridlines and box spines\n",
    "plt.grid(False)\n",
    "for spine in plt.gca().spines.values():\n",
    "    spine.set_visible(False)\n",
    "\n",
    "# Remove y-axis completely\n",
    "plt.gca().yaxis.set_visible(False)\n",
    "\n",
    "plt.show()\n"
   ]
  }
 ],
 "metadata": {
  "kernelspec": {
   "display_name": "myenv",
   "language": "python",
   "name": "python3"
  },
  "language_info": {
   "codemirror_mode": {
    "name": "ipython",
    "version": 3
   },
   "file_extension": ".py",
   "mimetype": "text/x-python",
   "name": "python",
   "nbconvert_exporter": "python",
   "pygments_lexer": "ipython3",
   "version": "3.11.8"
  }
 },
 "nbformat": 4,
 "nbformat_minor": 5
}
